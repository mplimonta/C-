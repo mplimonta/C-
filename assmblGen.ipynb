{
 "cells": [
  {
   "cell_type": "code",
   "execution_count": 1,
   "metadata": {},
   "outputs": [],
   "source": [
    "import pandas as pd"
   ]
  },
  {
   "cell_type": "code",
   "execution_count": 2,
   "metadata": {},
   "outputs": [
    {
     "name": "stdout",
     "output_type": "stream",
     "text": [
      "Index(['Type', 'Lenght', 'Name', 'Scope', 'LineNumbers'], dtype='object')\n"
     ]
    },
    {
     "data": {
      "text/html": [
       "<div>\n",
       "<style scoped>\n",
       "    .dataframe tbody tr th:only-of-type {\n",
       "        vertical-align: middle;\n",
       "    }\n",
       "\n",
       "    .dataframe tbody tr th {\n",
       "        vertical-align: top;\n",
       "    }\n",
       "\n",
       "    .dataframe thead th {\n",
       "        text-align: right;\n",
       "    }\n",
       "</style>\n",
       "<table border=\"1\" class=\"dataframe\">\n",
       "  <thead>\n",
       "    <tr style=\"text-align: right;\">\n",
       "      <th></th>\n",
       "      <th>Type</th>\n",
       "      <th>Lenght</th>\n",
       "      <th>Name</th>\n",
       "      <th>Scope</th>\n",
       "      <th>LineNumbers</th>\n",
       "    </tr>\n",
       "    <tr>\n",
       "      <th>MLo</th>\n",
       "      <th></th>\n",
       "      <th></th>\n",
       "      <th></th>\n",
       "      <th></th>\n",
       "      <th></th>\n",
       "    </tr>\n",
       "  </thead>\n",
       "  <tbody>\n",
       "    <tr>\n",
       "      <th>0</th>\n",
       "      <td>int</td>\n",
       "      <td>0</td>\n",
       "      <td>n</td>\n",
       "      <td>main</td>\n",
       "      <td>40 41 42 43 43 45</td>\n",
       "    </tr>\n",
       "    <tr>\n",
       "      <th>2</th>\n",
       "      <td>void</td>\n",
       "      <td>0</td>\n",
       "      <td>output</td>\n",
       "      <td>global</td>\n",
       "      <td>45</td>\n",
       "    </tr>\n",
       "    <tr>\n",
       "      <th>1</th>\n",
       "      <td>int</td>\n",
       "      <td>0</td>\n",
       "      <td>input</td>\n",
       "      <td>global</td>\n",
       "      <td>41</td>\n",
       "    </tr>\n",
       "    <tr>\n",
       "      <th>-1</th>\n",
       "      <td>void</td>\n",
       "      <td>0</td>\n",
       "      <td>main</td>\n",
       "      <td>global</td>\n",
       "      <td>38</td>\n",
       "    </tr>\n",
       "  </tbody>\n",
       "</table>\n",
       "</div>"
      ],
      "text/plain": [
       "     Type  Lenght    Name   Scope         LineNumbers\n",
       "MLo                                                  \n",
       " 0    int       0       n    main  40 41 42 43 43 45 \n",
       " 2   void       0  output  global                 45 \n",
       " 1    int       0   input  global                 41 \n",
       "-1   void       0    main  global                 38 "
      ]
     },
     "execution_count": 2,
     "metadata": {},
     "output_type": "execute_result"
    }
   ],
   "source": [
    "tbl = pd.read_csv(\"test.smbtbl\", delimiter='|')\n",
    "tbl.set_index(\"MLo\", inplace=True)\n",
    "print(tbl.columns)\n",
    "tbl"
   ]
  },
  {
   "cell_type": "code",
   "execution_count": 3,
   "metadata": {},
   "outputs": [
    {
     "name": "stdout",
     "output_type": "stream",
     "text": [
      "-\n"
     ]
    }
   ],
   "source": [
    "file_path = 'test.quad'\n",
    "commands = []\n",
    "with open(file_path, 'r') as file:\n",
    "    for line in file:\n",
    "        quad = line.strip('(')\n",
    "        quads = quad[:-2].split(', ')\n",
    "        commands.append(quads)\n",
    "print(commands[0][3])"
   ]
  },
  {
   "cell_type": "code",
   "execution_count": 4,
   "metadata": {},
   "outputs": [
    {
     "name": "stdout",
     "output_type": "stream",
     "text": [
      "['FUNC', 'void', 'main', '-']\n",
      "['ALLOC', 'n', 'main', '-']\n",
      "['CALL', '$t28', 'input', '0']\n",
      "['ADD', '$t1', '$t0', '$t28']\n",
      "['STORE', 'n', '$t1', '-']\n",
      "['LAB', 'L0', '-', '-']\n",
      "['LOAD', '$t2', 'n', '-']\n",
      "['ADDI', '$t3', '$t0', '3']\n",
      "['LT', '$t4', '$t2', '$t3']\n",
      "['WHILE', '$t4', 'L1', '-']\n",
      "['LOAD', '$t5', 'n', '-']\n",
      "['ADDI', '$t6', '$t0', '1']\n",
      "['SUB', '$t7', '$t5', '$t6']\n",
      "['STORE', 'n', '$t7', '-']\n",
      "['GOTO', 'L0', '-', '-']\n",
      "['LAB', 'L1', '-', '-']\n",
      "['LOAD', '$t8', 'n', '-']\n",
      "['PARAM', '$t8', '-', '-']\n",
      "['CALL', '$t28', 'output', '1']\n",
      "['ADD', '$t9', '$t0', '$t28']\n",
      "['END', 'main', '-', '-']\n"
     ]
    }
   ],
   "source": [
    "# Fix for Call registers ($t28 is return reg)\n",
    "for i, command in enumerate(commands):\n",
    "    if command[0] == \"CALL\":\n",
    "        aux = command[1]\n",
    "        command[1] = \"$t28\"\n",
    "        for comando in commands[i:]:\n",
    "            for j in range(1,4):\n",
    "                if comando[j] == aux:\n",
    "                    comando[j] = \"$t28\"\n",
    "for command in commands:\n",
    "    print(command)"
   ]
  },
  {
   "cell_type": "code",
   "execution_count": 5,
   "metadata": {},
   "outputs": [],
   "source": [
    "\n",
    "usedIndexes = []\n",
    "def fixIndex(line):\n",
    "    global usedIndexes\n",
    "    tobeUsed = []\n",
    "    for command in commands[line + 1:]:\n",
    "        for i in range(1,len(command)):\n",
    "            if \"$t\" in command[i]:\n",
    "                if command[i][2:] in usedIndexes and command[i][2:] not in tobeUsed:\n",
    "                    tobeUsed.append(command[i][2:])\n",
    "    usedIndexes = list(set(usedIndexes) - set(set(usedIndexes) - set(tobeUsed)))"
   ]
  },
  {
   "cell_type": "code",
   "execution_count": 6,
   "metadata": {},
   "outputs": [],
   "source": [
    "def getIndex(reg, indice, indice2):\n",
    "    if \"$t\" in commands[indice][indice2]:\n",
    "        index = int(reg[2:])\n",
    "        if index == 0:\n",
    "            return commands[indice][indice2]\n",
    "        if index < 29:\n",
    "            return commands[indice][indice2]\n",
    "        for num in range(1, 28):\n",
    "            if str(num) not in usedIndexes:\n",
    "                for i in range(0,len(commands)):\n",
    "                    for j in range(1,len(commands[i])):\n",
    "                        if \"$t\" in commands[i][j]:\n",
    "                            if commands[i][j] == reg:\n",
    "                                commands[i][j] = \"$t\"+str(num)\n",
    "                                break\n",
    "                usedIndexes.remove(str(index))\n",
    "                usedIndexes.append(str(num))\n",
    "                return \"$t\"+str(num)\n",
    "        print(\"\\n----------------------------\\nFATAL ERROR: NOT ENOUGH REGISTERS!!!\\n----------------------------\\n\")\n",
    "    return \"FATAL ERROR\""
   ]
  },
  {
   "cell_type": "code",
   "execution_count": 7,
   "metadata": {},
   "outputs": [
    {
     "name": "stdout",
     "output_type": "stream",
     "text": [
      "['STORE', 'n', '$t3', '-']\n"
     ]
    },
    {
     "ename": "ValueError",
     "evalue": "list.remove(x): x not in list",
     "output_type": "error",
     "traceback": [
      "\u001b[0;31m---------------------------------------------------------------------------\u001b[0m",
      "\u001b[0;31mValueError\u001b[0m                                Traceback (most recent call last)",
      "Cell \u001b[0;32mIn[7], line 94\u001b[0m\n\u001b[1;32m     92\u001b[0m     assembly\u001b[39m.\u001b[39mwrite(\u001b[39m\"\u001b[39m\u001b[39mdiv \u001b[39m\u001b[39m\"\u001b[39m\u001b[39m+\u001b[39mgetIndex(command[\u001b[39m1\u001b[39m],i,\u001b[39m1\u001b[39m)\u001b[39m+\u001b[39m\u001b[39m\"\u001b[39m\u001b[39m \u001b[39m\u001b[39m\"\u001b[39m\u001b[39m+\u001b[39mgetIndex(command[\u001b[39m2\u001b[39m],i,\u001b[39m2\u001b[39m)\u001b[39m+\u001b[39m\u001b[39m\"\u001b[39m\u001b[39m \u001b[39m\u001b[39m\"\u001b[39m\u001b[39m+\u001b[39mgetIndex(command[\u001b[39m3\u001b[39m],i,\u001b[39m3\u001b[39m)\u001b[39m+\u001b[39m\u001b[39m\"\u001b[39m\u001b[39m\\n\u001b[39;00m\u001b[39m\"\u001b[39m)\n\u001b[1;32m     93\u001b[0m \u001b[39mcase\u001b[39;00m \u001b[39m'\u001b[39m\u001b[39mLT\u001b[39m\u001b[39m'\u001b[39m:\n\u001b[0;32m---> 94\u001b[0m     assembly\u001b[39m.\u001b[39mwrite(\u001b[39m\"\u001b[39m\u001b[39mlt \u001b[39m\u001b[39m\"\u001b[39m\u001b[39m+\u001b[39mgetIndex(command[\u001b[39m1\u001b[39m],i,\u001b[39m1\u001b[39m)\u001b[39m+\u001b[39m\u001b[39m\"\u001b[39m\u001b[39m \u001b[39m\u001b[39m\"\u001b[39m\u001b[39m+\u001b[39mgetIndex(command[\u001b[39m2\u001b[39m],i,\u001b[39m2\u001b[39m)\u001b[39m+\u001b[39m\u001b[39m\"\u001b[39m\u001b[39m \u001b[39m\u001b[39m\"\u001b[39m\u001b[39m+\u001b[39mgetIndex(command[\u001b[39m3\u001b[39;49m],i,\u001b[39m3\u001b[39;49m)\u001b[39m+\u001b[39m\u001b[39m\"\u001b[39m\u001b[39m\\n\u001b[39;00m\u001b[39m\"\u001b[39m)\n\u001b[1;32m     95\u001b[0m \u001b[39mcase\u001b[39;00m \u001b[39m'\u001b[39m\u001b[39mLET\u001b[39m\u001b[39m'\u001b[39m:\n\u001b[1;32m     96\u001b[0m     assembly\u001b[39m.\u001b[39mwrite(\u001b[39m\"\u001b[39m\u001b[39mlet \u001b[39m\u001b[39m\"\u001b[39m\u001b[39m+\u001b[39mgetIndex(command[\u001b[39m1\u001b[39m],i,\u001b[39m1\u001b[39m)\u001b[39m+\u001b[39m\u001b[39m\"\u001b[39m\u001b[39m \u001b[39m\u001b[39m\"\u001b[39m\u001b[39m+\u001b[39mgetIndex(command[\u001b[39m2\u001b[39m],i,\u001b[39m2\u001b[39m)\u001b[39m+\u001b[39m\u001b[39m\"\u001b[39m\u001b[39m \u001b[39m\u001b[39m\"\u001b[39m\u001b[39m+\u001b[39mgetIndex(command[\u001b[39m3\u001b[39m],i,\u001b[39m3\u001b[39m)\u001b[39m+\u001b[39m\u001b[39m\"\u001b[39m\u001b[39m\\n\u001b[39;00m\u001b[39m\"\u001b[39m)\n",
      "Cell \u001b[0;32mIn[6], line 21\u001b[0m, in \u001b[0;36mgetIndex\u001b[0;34m(reg, indice, indice2)\u001b[0m\n\u001b[1;32m     19\u001b[0m                 commands[i][j] \u001b[39m=\u001b[39m \u001b[39m\"\u001b[39m\u001b[39m$t\u001b[39m\u001b[39m\"\u001b[39m\u001b[39m+\u001b[39m\u001b[39mstr\u001b[39m(num)\n\u001b[1;32m     20\u001b[0m                 \u001b[39mbreak\u001b[39;00m\n\u001b[0;32m---> 21\u001b[0m usedIndexes\u001b[39m.\u001b[39;49mremove(\u001b[39mstr\u001b[39;49m(index))\n\u001b[1;32m     22\u001b[0m usedIndexes\u001b[39m.\u001b[39mappend(\u001b[39mstr\u001b[39m(num))\n\u001b[1;32m     23\u001b[0m \u001b[39mreturn\u001b[39;00m \u001b[39m\"\u001b[39m\u001b[39m$t\u001b[39m\u001b[39m\"\u001b[39m\u001b[39m+\u001b[39m\u001b[39mstr\u001b[39m(num)\n",
      "\u001b[0;31mValueError\u001b[0m: list.remove(x): x not in list"
     ]
    }
   ],
   "source": [
    "#addi beq bne bgt blt lw sw j jal (jar) add sub div mult and or\n",
    "usedVars = {}\n",
    "Params = []\n",
    "assembly = open(\"test.asm\", 'w')\n",
    "scope = \" \"\n",
    "Callflag = 0\n",
    "assembly.write(\"j \"+\"main\"\"\\n\")\n",
    "for i, command in enumerate(commands):\n",
    "    for reg in command[1:]:\n",
    "        if \"$t\" in reg and reg[2:] not in usedIndexes:\n",
    "            usedIndexes.append(reg[2:])\n",
    "    match command[0]:\n",
    "        case 'FUNC':\n",
    "            assembly.write(\"LAB \"+command[2]+\"\\n\")\n",
    "            scope = command[2]\n",
    "            if command[2] != \"main\":\n",
    "                assembly.write(\"addi $t30 $t30 1\\n\")\n",
    "                assembly.write(\"sw $t31 $t29 1\"+\"\\n\")\n",
    "        case 'END':\n",
    "            if command[1] != 'main':\n",
    "                assembly.write(\"LAB FIM:\"+command[1] +\"\\n\")\n",
    "                assembly.write(\"lw $t31 $t29 1\"+\"\\n\")\n",
    "                assembly.write(\"jr $t31\"+\"\\n\")\n",
    "            else:\n",
    "                assembly.write(\"halt\"+\"\\n\")\n",
    "\n",
    "        case 'ARG':\n",
    "            assembly.write(\"addi $t30 $t30 1\\n\")\n",
    "        case 'LOAD':\n",
    "            reg = getIndex(command[1],i,1)\n",
    "            if command[2] not in usedVars:\n",
    "                usedVars[command[2]] = reg\n",
    "            assembly.write(\"lw \"+reg+\" \"+\"$t29 \"+str(tbl[(tbl['Name'] == command[2]) & (tbl['Scope'] == scope)].index[0])+\"\\n\")\n",
    "        case 'GOTO':\n",
    "            assembly.write(\"j \"+command[1]+\"\\n\")\n",
    "        case 'LAB':\n",
    "            assembly.write(\"LAB \"+command[1]+\"\\n\")\n",
    "        case 'IFF':\n",
    "            assembly.write(\"beq \"+command[1]+\" \"+\"$t0 \"+command[2]+\"\\n\")\n",
    "        case 'WHILE':\n",
    "            assembly.write(\"beq \"+command[1]+\" \"+\"$t0 \"+command[2]+\"\\n\")\n",
    "        case 'RET':\n",
    "            if command[1] == \"$t28\":\n",
    "                assembly.write(\"addi $t28 \"+ \"$t28 \"+\"0\"+\"\\n\")\n",
    "            else:\n",
    "                assembly.write(\"addi $t28 \"+ getIndex(command[1],i,1)+\" 0\"+\"\\n\")\n",
    "            assembly.write(\"j FIM:\"+scope+\"\\n\")\n",
    "        case 'CALL':\n",
    "            if command[2] == \"input\":\n",
    "                assembly.write(\"input \" +\"$t28\"+\"\\n\")\n",
    "            elif command[2] == \"output\":\n",
    "                assembly.write(\"output \" +Params[0]+\"\\n\")\n",
    "            else:\n",
    "                backup = usedVars.copy()\n",
    "                for var in list(usedVars):\n",
    "                    assembly.write(\"sw \"+usedVars[var]+\" \"+\"$t30 \"+ \"0\"+\"\\n\")\n",
    "                    assembly.write(\"addi \" +\"$t30 \" +\"$t30 \"+ \"1\"+\"\\n\")\n",
    "                    del usedVars[var]\n",
    "                assembly.write(\"sw \" +\"$t29 \" +\"$t30 \"+ \"0\"+\"\\n\")\n",
    "                assembly.write(\"addi \" +\"$t29 \" +\"$t30 \"+ \"0\"+\"\\n\")\n",
    "                assembly.write(\"addi \" +\"$t30 \" +\"$t30 \"+ \"1\"+\"\\n\")\n",
    "                Mem = 2\n",
    "                for param in Params:\n",
    "                    assembly.write(\"sw \"+param+\" $t29 \"+str(Mem)+\"\\n\")\n",
    "                    Mem += 1\n",
    "                Mem = 2\n",
    "                Params = []\n",
    "                assembly.write(\"jal \" +command[2]+\"\\n\")\n",
    "                assembly.write(\"addi \" +\"$t30 \" +\"$t29 \"+ \"0\"+\"\\n\")\n",
    "                assembly.write(\"lw \" +\"$t29 \" +\"$t29 \"+ \"0\"+\"\\n\")\n",
    "                usedVars = backup\n",
    "                for var in list(usedVars):\n",
    "                    assembly.write(\"subi \" +\"$t30 \" +\"$t30 \"+ \"1\"+\"\\n\")\n",
    "                    assembly.write(\"lw \"+usedVars[var]+\" \"+\"$t30 \"+ \"0\"+\"\\n\")\n",
    "                    del usedVars[var]\n",
    "        case 'ADDI':\n",
    "            #command[2] is always $t0\n",
    "            assembly.write(\"addi \"+getIndex(command[1],i,1)+\" \"+getIndex(command[2],i,2)+\" \"+command[3]+\"\\n\")\n",
    "        case 'ALLOC':\n",
    "            assembly.write(\"addi $t30 $t30 1\\n\")\n",
    "        case 'STORE':\n",
    "            assembly.write(\"sw \"+getIndex(command[2],i,2) +\" $t29 \"+str(tbl[(tbl['Name'] == command[1]) & (tbl['Scope'] == scope)].index[0])+\"\\n\")\n",
    "        case 'PARAM':\n",
    "            Params.append(getIndex(command[1],i,1))\n",
    "        case 'ADD':\n",
    "            assembly.write(\"add \"+getIndex(command[1],i,1)+\" \"+getIndex(command[2],i,2)+\" \"+getIndex(command[3],i,3)+\"\\n\")\n",
    "        case 'SUB':\n",
    "            assembly.write(\"sub \"+getIndex(command[1],i,1)+\" \"+getIndex(command[2],i,2)+\" \"+getIndex(command[3],i,3)+\"\\n\")\n",
    "        case 'MULT':\n",
    "            assembly.write(\"mult \"+getIndex(command[1],i,1)+\" \"+getIndex(command[2],i,2)+\" \"+getIndex(command[3],i,3)+\"\\n\")\n",
    "        case 'DIV':\n",
    "            assembly.write(\"div \"+getIndex(command[1],i,1)+\" \"+getIndex(command[2],i,2)+\" \"+getIndex(command[3],i,3)+\"\\n\")\n",
    "        case 'LT':\n",
    "            assembly.write(\"lt \"+getIndex(command[1],i,1)+\" \"+getIndex(command[2],i,2)+\" \"+getIndex(command[3],i,3)+\"\\n\")\n",
    "        case 'LET':\n",
    "            assembly.write(\"let \"+getIndex(command[1],i,1)+\" \"+getIndex(command[2],i,2)+\" \"+getIndex(command[3],i,3)+\"\\n\")\n",
    "        case 'GT':\n",
    "            assembly.write(\"gt \"+getIndex(command[1],i,1)+\" \"+getIndex(command[2],i,2)+\" \"+getIndex(command[3],i,3)+\"\\n\")\n",
    "        case 'GET':\n",
    "            assembly.write(\"get \"+getIndex(command[1],i,1)+\" \"+getIndex(command[2],i,2)+\" \"+getIndex(command[3],i,3)+\"\\n\")\n",
    "        case 'COMP':# ==\n",
    "            assembly.write(\"comp \"+getIndex(command[1],i,1)+\" \"+getIndex(command[2],i,2)+\" \"+getIndex(command[3],i,3)+\"\\n\")\n",
    "        case 'NEQ':\n",
    "            assembly.write(\"neq \"+getIndex(command[1],i,1)+\" \"+getIndex(command[2],i,2)+\" \"+getIndex(command[3],i,3)+\"\\n\")\n",
    "    fixIndex(i)\n",
    "assembly.close()"
   ]
  },
  {
   "cell_type": "code",
   "execution_count": null,
   "metadata": {},
   "outputs": [],
   "source": [
    "for command in commands:\n",
    "    print(command)"
   ]
  },
  {
   "cell_type": "code",
   "execution_count": null,
   "metadata": {},
   "outputs": [],
   "source": [
    "file_path = 'test.asm'\n",
    "commands_asm = []\n",
    "linha = 0\n",
    "with open(file_path, 'r') as file:\n",
    "    for line in file:\n",
    "        quads = line.split(' ')\n",
    "        commands_asm.append(quads)\n",
    "        print(quads)"
   ]
  },
  {
   "cell_type": "code",
   "execution_count": null,
   "metadata": {},
   "outputs": [],
   "source": [
    "file_path = \"test.asmfinal\"\n",
    "asmfinal = open(file_path, 'w')\n",
    "linha = 0\n",
    "for command in commands_asm:\n",
    "    if command[0] == \"LAB\":\n",
    "        for comando in commands_asm:\n",
    "            for j in range(0,len(comando)):\n",
    "                if command[1] == comando[j] and command != comando:\n",
    "                    comando[j] = str(linha) + \"\\n\"\n",
    "                    break\n",
    "    else:\n",
    "        linha +=1\n",
    "    print(command)\n",
    "print(linha)"
   ]
  },
  {
   "cell_type": "code",
   "execution_count": null,
   "metadata": {},
   "outputs": [],
   "source": [
    "for command in commands_asm:\n",
    "    print(command)"
   ]
  },
  {
   "cell_type": "code",
   "execution_count": null,
   "metadata": {},
   "outputs": [],
   "source": []
  },
  {
   "cell_type": "code",
   "execution_count": null,
   "metadata": {},
   "outputs": [],
   "source": [
    "linha = 0\n",
    "for command in commands_asm:\n",
    "    if command[0] != \"LAB\":\n",
    "        linha += 1\n",
    "        if command[0] == \"beq\":\n",
    "            command[3] = str((int(command[3]) - linha)) + \"\\n\"\n",
    "        asmfinal.write(\" \".join(command))\n",
    "    print(command)\n",
    "print(linha)\n",
    "asmfinal.close()\n"
   ]
  }
 ],
 "metadata": {
  "kernelspec": {
   "display_name": "Python 3",
   "language": "python",
   "name": "python3"
  },
  "language_info": {
   "codemirror_mode": {
    "name": "ipython",
    "version": 3
   },
   "file_extension": ".py",
   "mimetype": "text/x-python",
   "name": "python",
   "nbconvert_exporter": "python",
   "pygments_lexer": "ipython3",
   "version": "3.10.4"
  },
  "orig_nbformat": 4
 },
 "nbformat": 4,
 "nbformat_minor": 2
}
