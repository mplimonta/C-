{
 "cells": [
  {
   "cell_type": "code",
   "execution_count": 7,
   "metadata": {},
   "outputs": [],
   "source": [
    "import pandas as pd\n",
    "import sys"
   ]
  },
  {
   "cell_type": "code",
   "execution_count": 8,
   "metadata": {},
   "outputs": [
    {
     "name": "stdout",
     "output_type": "stream",
     "text": [
      "     Type  Lenght     Name   Scope LineNumbers\n",
      "MLo                                           \n",
      "3     int       0        x    main      26 30 \n",
      "5     int       0    input  global         30 \n",
      "2    void       0     main  global         25 \n",
      "0     int       0   funcao  global      19 29 \n",
      "4     int       0  bababoi    main      27 28 \n",
      "1     int       0  bababoi  funcao   20 21 22 \n",
      "Index(['Type', 'Lenght', 'Name', 'Scope', 'LineNumbers'], dtype='object')\n"
     ]
    }
   ],
   "source": [
    "tbl = pd.read_csv(\"test.smbtbl\", delimiter='|')\n",
    "tbl.set_index(\"MLo\", inplace=True)\n",
    "print(tbl)\n",
    "print(tbl.columns)"
   ]
  },
  {
   "cell_type": "code",
   "execution_count": 9,
   "metadata": {},
   "outputs": [
    {
     "name": "stdout",
     "output_type": "stream",
     "text": [
      "-\n"
     ]
    }
   ],
   "source": [
    "file_path = 'test.quad'\n",
    "commands = []\n",
    "with open(file_path, 'r') as file:\n",
    "    for line in file:\n",
    "        quad = line.strip('(')\n",
    "        quads = quad[:-2].split(', ')\n",
    "        commands.append(quads)\n",
    "print(commands[0][3])"
   ]
  },
  {
   "cell_type": "code",
   "execution_count": 10,
   "metadata": {},
   "outputs": [],
   "source": [
    "\n",
    "usedIndexes = []\n",
    "def fixIndex(line):\n",
    "    global usedIndexes\n",
    "    tobeUsed = []\n",
    "    for command in commands[line + 1:]:\n",
    "        # index = command[1].strip(\"$t\")\n",
    "        for i in range(1,4):\n",
    "            if \"$t\" in command[i]:\n",
    "                #print(command[i])\n",
    "                if command[i][2:] in usedIndexes and command[i][2:] not in tobeUsed:\n",
    "                    tobeUsed.append(command[i][2:])\n",
    "    print(usedIndexes, tobeUsed)\n",
    "    usedIndexes = list(set(usedIndexes) - set(set(usedIndexes) - set(tobeUsed)))\n",
    "\n",
    "# tobeUsed"
   ]
  },
  {
   "cell_type": "code",
   "execution_count": 11,
   "metadata": {},
   "outputs": [
    {
     "data": {
      "text/plain": [
       "2"
      ]
     },
     "execution_count": 11,
     "metadata": {},
     "output_type": "execute_result"
    }
   ],
   "source": [
    "tbl.index[tbl[\"Name\"] == \"main\"][0]"
   ]
  },
  {
   "cell_type": "code",
   "execution_count": 12,
   "metadata": {},
   "outputs": [
    {
     "name": "stdout",
     "output_type": "stream",
     "text": [
      "[] []\n",
      "[] []\n",
      "['0'] ['0']\n",
      "['0'] []\n",
      "['1'] ['1']\n",
      "['1'] []\n",
      "[] []\n",
      "[] []\n",
      "[] []\n",
      "[] []\n",
      "['2'] ['2']\n",
      "['2'] []\n",
      "['3'] []\n",
      "['4'] ['4']\n",
      "['4'] []\n",
      "[] []\n"
     ]
    }
   ],
   "source": [
    "#addi beq bne bgt blt lw sw j jal (jar) add sub div mult and or\n",
    "stack = []\n",
    "stacksize = 0\n",
    "stackpointer = 0\n",
    "assembly = open(\"test.asm\", 'w')\n",
    "assembly.write(\"j \"+str(tbl.index[tbl[\"Name\"] == \"main\"][0]))\n",
    "for i, command in enumerate(commands):\n",
    "    for reg in command[1:]:\n",
    "        if \"$t\" in reg and reg[2:] not in usedIndexes:\n",
    "            usedIndexes.append(reg[2:])\n",
    "    match command[0]:\n",
    "    #     case 'FUNC':\n",
    "    #         #print(\"eh func\")\n",
    "    #     case 'ARG':\n",
    "    #         print(\"eh arg\")\n",
    "    #     case 'LOAD':\n",
    "    #         print(\"eh load\")\n",
    "    #     case 'IFF':\n",
    "    #         print(\"eh IFF\")\n",
    "    #     case 'GOTO':\n",
    "    #         print(\"eh GOTO\")\n",
    "    #     case 'LAB':\n",
    "    #         print(\"eh LAB\")\n",
    "    #     case 'WHILE':\n",
    "    #         print(\"eh WHILE\")\n",
    "    #     case 'RET':\n",
    "    #         print(\"eh RET\")\n",
    "    #     case 'END':\n",
    "    #         print(\"eh END\")\n",
    "    #     case 'CALL':\n",
    "    #         print(\"eh CALL\")\n",
    "    #     case 'ALLOC':\n",
    "    #         print(\"eh ALLOC\")\n",
    "    #     case 'STORE':\n",
    "    #         print(\"eh STORE\")\n",
    "    #     case 'PARAM':\n",
    "    #         print(\"eh PARAM\")\n",
    "    #     case 'SOM':\n",
    "    #         print(\"eh SOM\")\n",
    "    #     case 'SUB':\n",
    "    #         print(\"eh func\")\n",
    "         case 'MULT':\n",
    "            assembly.write(\"mult \"+command[1]+\" \"+command[2]+\" \"+command[3]+\"\\n\")\n",
    "    #     case 'LT':\n",
    "    #         print(\"eh LT\")\n",
    "    #     case 'LET':\n",
    "    #         print(\"eh LET\")\n",
    "    #     case 'GT':\n",
    "    #         print(\"eh GT\")\n",
    "    #     case 'GET':\n",
    "    #         print(\"eh GET\")\n",
    "    #     case 'COMP':\n",
    "    #         print(\"eh COMP\")\n",
    "    #     case 'NEQ':\n",
    "    #         print(\"eh NEQ\")\n",
    "    #     case 'EQ':\n",
    "    #         print(\"eh EQ\")\n",
    "    fixIndex(i)\n",
    "#print(usedIndexes)\n",
    "assembly.close()"
   ]
  }
 ],
 "metadata": {
  "kernelspec": {
   "display_name": "Python 3",
   "language": "python",
   "name": "python3"
  },
  "language_info": {
   "codemirror_mode": {
    "name": "ipython",
    "version": 3
   },
   "file_extension": ".py",
   "mimetype": "text/x-python",
   "name": "python",
   "nbconvert_exporter": "python",
   "pygments_lexer": "ipython3",
   "version": "3.10.4"
  },
  "orig_nbformat": 4
 },
 "nbformat": 4,
 "nbformat_minor": 2
}
