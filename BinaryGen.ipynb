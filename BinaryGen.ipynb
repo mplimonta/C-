{
 "cells": [
  {
   "cell_type": "code",
   "execution_count": 13,
   "metadata": {},
   "outputs": [
    {
     "name": "stdout",
     "output_type": "stream",
     "text": [
      "j 46\n"
     ]
    }
   ],
   "source": [
    "asm = open(\"test.asmfinal\",\"r\")\n",
    "commands = []\n",
    "for line in asm:\n",
    "    line = line.replace(\"\\n\",\"\")\n",
    "    commands.append(line)\n",
    "print(commands[0])"
   ]
  },
  {
   "cell_type": "code",
   "execution_count": 14,
   "metadata": {},
   "outputs": [],
   "source": [
    "def toBinary(num):\n",
    "    return format(int(num.strip(\"$t\")), '05b')"
   ]
  },
  {
   "cell_type": "code",
   "execution_count": 15,
   "metadata": {},
   "outputs": [],
   "source": [
    "def convert_instruction_to_binary(instruction):\n",
    "    opcode_table = {\n",
    "        'add':  '000000',\n",
    "        'div':  '000000',\n",
    "        'mult': '000000',\n",
    "        'sub':  '000000',\n",
    "        'or':   '000000',\n",
    "        'and':  '000000',\n",
    "        'neq':  '000000',\n",
    "        'lt':   '000000',\n",
    "        'gt':   '000000',\n",
    "        'comp': '000000',\n",
    "        'get' : '000000',\n",
    "        'let':  '000000',\n",
    "        'lw':   '000001',\n",
    "        'sw':   '000010',\n",
    "        'addi': '000011',\n",
    "        'subi': '000100',\n",
    "        'beq':  '000101',\n",
    "        'j':    '001001',\n",
    "        'jr' :  '001010',\n",
    "        'jal':  '001011',\n",
    "        'input':  '001100',\n",
    "        'output':  '001101',\n",
    "        'halt': '111111'\n",
    "    }\n",
    "    funct_table = {\n",
    "        'div':  '100000',\n",
    "        'mult':  '000001',\n",
    "        'sub':  '000010',\n",
    "        'add':  '000011',\n",
    "        'or':  '000100',\n",
    "        'and':  '000101',\n",
    "        'lt':  '000110',\n",
    "        'let':  '000111',\n",
    "        'gt':  '001000',\n",
    "        'get':  '001001',\n",
    "        'comp':  '001010',\n",
    "        'neq':  '001011',\n",
    "        'swr':  '001100',\n",
    "        'lwr':  '001101'\n",
    "    }\n",
    "    instr_parts = instruction.split()\n",
    "    instr_type = instr_parts[0]\n",
    "\n",
    "    if instr_type in ['addi', 'subi', 'lw', 'sw','beq']:\n",
    "        opcode = opcode_table[instr_type]\n",
    "        rs = toBinary(instr_parts[2])\n",
    "        rt = toBinary(instr_parts[1])\n",
    "        immediate = format(int(instr_parts[3].strip(\"$t\")), '016b')\n",
    "        binary_instr = f'{opcode} {rs} {rt} {immediate}'\n",
    "\n",
    "    elif instr_type in ['jr']:\n",
    "        opcode = opcode_table[instr_type]\n",
    "        rs = toBinary(instr_parts[1])\n",
    "        immediate = format(0, '021b')\n",
    "        binary_instr = f'{opcode} {rs} {immediate}'\n",
    "\n",
    "    elif instr_type in ['j', 'jal']:\n",
    "        opcode = opcode_table[instr_type]\n",
    "        address = format(int(instr_parts[1].strip(\"$t\")), '026b')\n",
    "        binary_instr = f'{opcode} {address}'\n",
    "    elif instr_type in ['halt']:\n",
    "        opcode = opcode_table[instr_type]\n",
    "        address = \"1\"*26\n",
    "        binary_instr = f'{opcode} {address}'\n",
    "    elif instr_type in ['input', 'output']:\n",
    "        opcode = opcode_table[instr_type]\n",
    "        rs = toBinary(instr_parts[1])\n",
    "        immediate = format(0, '021b')\n",
    "        binary_instr = f'{opcode} {rs} {immediate}'\n",
    "    \n",
    "    else:\n",
    "        opcode = opcode_table[instr_type]\n",
    "        funct = funct_table[instr_type]\n",
    "        rs = toBinary(instr_parts[2])\n",
    "        rt = toBinary(instr_parts[3])\n",
    "        rd = toBinary(instr_parts[1])\n",
    "        shamt = '00000'\n",
    "        binary_instr = f'{opcode} {rs} {rt} {rd} {shamt} {funct}'\n",
    "\n",
    "    return binary_instr.replace(' ', '')"
   ]
  },
  {
   "cell_type": "code",
   "execution_count": 16,
   "metadata": {},
   "outputs": [],
   "source": [
    "binary = open(\"rom.txt\",\"w\")\n",
    "for command in commands:\n",
    "    binario = convert_instruction_to_binary(command)\n",
    "    binary.write(str(binario)+\"\\n\")\n",
    "binary.close()"
   ]
  },
  {
   "cell_type": "code",
   "execution_count": 17,
   "metadata": {},
   "outputs": [
    {
     "name": "stdout",
     "output_type": "stream",
     "text": [
      "00000000000101110001000000000011\n",
      "00000000001000100001100000000111\n"
     ]
    }
   ],
   "source": [
    "# print(convert_instruction_to_binary(\"jal 1\"))\n",
    "# print(convert_instruction_to_binary(\"addi $t30 $t30 1\"))\n",
    "# print(convert_instruction_to_binary(\"addi $t30 $t30 1\"))\n",
    "# print(convert_instruction_to_binary(\"addi $t1 $t0 18\"))\n",
    "#print(convert_instruction_to_binary(\"sw $t1 $t29 0\"))\n",
    "print(convert_instruction_to_binary(\"add $t2 $t0 $t23\"))\n",
    "print(convert_instruction_to_binary(\"let $t3 $t1 $t2\"))\n",
    "# print(convert_instruction_to_binary(\"sw $t1 $t29 1\"))\n",
    "# print(convert_instruction_to_binary(\"lw $t1 $t29 0\"))\n",
    "# print(convert_instruction_to_binary(\"lw $t2 $t29 1\"))\n",
    "# print(convert_instruction_to_binary(\"add $t28 $t0 $t2\"))\n",
    "# print(convert_instruction_to_binary(\"output $t3\"))"
   ]
  },
  {
   "cell_type": "code",
   "execution_count": 18,
   "metadata": {},
   "outputs": [],
   "source": [
    "# print(convert_instruction_to_binary(\"jal 1\"))\n",
    "# print(convert_instruction_to_binary(\"addi $t1 $t0 23\"))\n",
    "# print(convert_instruction_to_binary(\"addi $t2 $t0 23\"))\n",
    "# print(convert_instruction_to_binary(\"beq $t1 $t2 2\"))\n",
    "# print(convert_instruction_to_binary(\"addi $t1 $t0 57\"))\n",
    "# print(convert_instruction_to_binary(\"addi $t2 $t0 73\"))\n",
    "# print(convert_instruction_to_binary(\"j 1\"))"
   ]
  }
 ],
 "metadata": {
  "kernelspec": {
   "display_name": "Python 3 (ipykernel)",
   "language": "python",
   "name": "python3"
  },
  "language_info": {
   "codemirror_mode": {
    "name": "ipython",
    "version": 3
   },
   "file_extension": ".py",
   "mimetype": "text/x-python",
   "name": "python",
   "nbconvert_exporter": "python",
   "pygments_lexer": "ipython3",
   "version": "3.10.4"
  },
  "orig_nbformat": 4
 },
 "nbformat": 4,
 "nbformat_minor": 2
}
